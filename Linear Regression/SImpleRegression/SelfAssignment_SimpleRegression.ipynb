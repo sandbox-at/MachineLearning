{
 "cells": [
  {
   "cell_type": "markdown",
   "metadata": {},
   "source": [
    "## Load data\n"
   ]
  },
  {
   "cell_type": "code",
   "execution_count": 21,
   "metadata": {
    "collapsed": true
   },
   "outputs": [],
   "source": [
    "import graphlab"
   ]
  },
  {
   "cell_type": "code",
   "execution_count": 34,
   "metadata": {
    "collapsed": false
   },
   "outputs": [
    {
     "data": {
      "text/html": [
       "<pre>Finished parsing file C:\\Users\\mbal\\Documents\\All Backup Data\\OneDrive\\Documents\\Training\\Outside Adobe skills\\Machine Learning\\LinearRegression\\Codes\\Simple Regression\\Philadelphia_Crime_Rate_noNA.csv</pre>"
      ],
      "text/plain": [
       "Finished parsing file C:\\Users\\mbal\\Documents\\All Backup Data\\OneDrive\\Documents\\Training\\Outside Adobe skills\\Machine Learning\\LinearRegression\\Codes\\Simple Regression\\Philadelphia_Crime_Rate_noNA.csv"
      ]
     },
     "metadata": {},
     "output_type": "display_data"
    },
    {
     "data": {
      "text/html": [
       "<pre>Parsing completed. Parsed 99 lines in 0.028074 secs.</pre>"
      ],
      "text/plain": [
       "Parsing completed. Parsed 99 lines in 0.028074 secs."
      ]
     },
     "metadata": {},
     "output_type": "display_data"
    },
    {
     "name": "stdout",
     "output_type": "stream",
     "text": [
      "------------------------------------------------------\n",
      "Inferred types from first 100 line(s) of file as \n",
      "column_type_hints=[long,float,float,float,float,str,str]\n",
      "If parsing fails due to incorrect types, you can correct\n",
      "the inferred type list above and pass it to read_csv in\n",
      "the column_type_hints argument\n",
      "------------------------------------------------------\n"
     ]
    },
    {
     "data": {
      "text/html": [
       "<pre>Finished parsing file C:\\Users\\mbal\\Documents\\All Backup Data\\OneDrive\\Documents\\Training\\Outside Adobe skills\\Machine Learning\\LinearRegression\\Codes\\Simple Regression\\Philadelphia_Crime_Rate_noNA.csv</pre>"
      ],
      "text/plain": [
       "Finished parsing file C:\\Users\\mbal\\Documents\\All Backup Data\\OneDrive\\Documents\\Training\\Outside Adobe skills\\Machine Learning\\LinearRegression\\Codes\\Simple Regression\\Philadelphia_Crime_Rate_noNA.csv"
      ]
     },
     "metadata": {},
     "output_type": "display_data"
    },
    {
     "data": {
      "text/html": [
       "<pre>Parsing completed. Parsed 99 lines in 0.022059 secs.</pre>"
      ],
      "text/plain": [
       "Parsing completed. Parsed 99 lines in 0.022059 secs."
      ]
     },
     "metadata": {},
     "output_type": "display_data"
    }
   ],
   "source": [
    "sales=graphlab.SFrame.read_csv('Philadelphia_Crime_Rate_noNA.csv/')"
   ]
  },
  {
   "cell_type": "code",
   "execution_count": 35,
   "metadata": {
    "collapsed": false
   },
   "outputs": [
    {
     "data": {
      "text/html": [
       "<div style=\"max-height:1000px;max-width:1500px;overflow:auto;\"><table frame=\"box\" rules=\"cols\">\n",
       "    <tr>\n",
       "        <th style=\"padding-left: 1em; padding-right: 1em; text-align: center\">HousePrice</th>\n",
       "        <th style=\"padding-left: 1em; padding-right: 1em; text-align: center\">HsPrc ($10,000)</th>\n",
       "        <th style=\"padding-left: 1em; padding-right: 1em; text-align: center\">CrimeRate</th>\n",
       "        <th style=\"padding-left: 1em; padding-right: 1em; text-align: center\">MilesPhila</th>\n",
       "        <th style=\"padding-left: 1em; padding-right: 1em; text-align: center\">PopChg</th>\n",
       "        <th style=\"padding-left: 1em; padding-right: 1em; text-align: center\">Name</th>\n",
       "        <th style=\"padding-left: 1em; padding-right: 1em; text-align: center\">County</th>\n",
       "    </tr>\n",
       "    <tr>\n",
       "        <td style=\"padding-left: 1em; padding-right: 1em; text-align: center; vertical-align: top\">140463</td>\n",
       "        <td style=\"padding-left: 1em; padding-right: 1em; text-align: center; vertical-align: top\">14.0463</td>\n",
       "        <td style=\"padding-left: 1em; padding-right: 1em; text-align: center; vertical-align: top\">29.7</td>\n",
       "        <td style=\"padding-left: 1em; padding-right: 1em; text-align: center; vertical-align: top\">10.0</td>\n",
       "        <td style=\"padding-left: 1em; padding-right: 1em; text-align: center; vertical-align: top\">-1.0</td>\n",
       "        <td style=\"padding-left: 1em; padding-right: 1em; text-align: center; vertical-align: top\">Abington</td>\n",
       "        <td style=\"padding-left: 1em; padding-right: 1em; text-align: center; vertical-align: top\">Montgome</td>\n",
       "    </tr>\n",
       "    <tr>\n",
       "        <td style=\"padding-left: 1em; padding-right: 1em; text-align: center; vertical-align: top\">113033</td>\n",
       "        <td style=\"padding-left: 1em; padding-right: 1em; text-align: center; vertical-align: top\">11.3033</td>\n",
       "        <td style=\"padding-left: 1em; padding-right: 1em; text-align: center; vertical-align: top\">24.1</td>\n",
       "        <td style=\"padding-left: 1em; padding-right: 1em; text-align: center; vertical-align: top\">18.0</td>\n",
       "        <td style=\"padding-left: 1em; padding-right: 1em; text-align: center; vertical-align: top\">4.0</td>\n",
       "        <td style=\"padding-left: 1em; padding-right: 1em; text-align: center; vertical-align: top\">Ambler</td>\n",
       "        <td style=\"padding-left: 1em; padding-right: 1em; text-align: center; vertical-align: top\">Montgome</td>\n",
       "    </tr>\n",
       "    <tr>\n",
       "        <td style=\"padding-left: 1em; padding-right: 1em; text-align: center; vertical-align: top\">124186</td>\n",
       "        <td style=\"padding-left: 1em; padding-right: 1em; text-align: center; vertical-align: top\">12.4186</td>\n",
       "        <td style=\"padding-left: 1em; padding-right: 1em; text-align: center; vertical-align: top\">19.5</td>\n",
       "        <td style=\"padding-left: 1em; padding-right: 1em; text-align: center; vertical-align: top\">25.0</td>\n",
       "        <td style=\"padding-left: 1em; padding-right: 1em; text-align: center; vertical-align: top\">8.0</td>\n",
       "        <td style=\"padding-left: 1em; padding-right: 1em; text-align: center; vertical-align: top\">Aston</td>\n",
       "        <td style=\"padding-left: 1em; padding-right: 1em; text-align: center; vertical-align: top\">Delaware</td>\n",
       "    </tr>\n",
       "    <tr>\n",
       "        <td style=\"padding-left: 1em; padding-right: 1em; text-align: center; vertical-align: top\">110490</td>\n",
       "        <td style=\"padding-left: 1em; padding-right: 1em; text-align: center; vertical-align: top\">11.049</td>\n",
       "        <td style=\"padding-left: 1em; padding-right: 1em; text-align: center; vertical-align: top\">49.4</td>\n",
       "        <td style=\"padding-left: 1em; padding-right: 1em; text-align: center; vertical-align: top\">25.0</td>\n",
       "        <td style=\"padding-left: 1em; padding-right: 1em; text-align: center; vertical-align: top\">2.7</td>\n",
       "        <td style=\"padding-left: 1em; padding-right: 1em; text-align: center; vertical-align: top\">Bensalem</td>\n",
       "        <td style=\"padding-left: 1em; padding-right: 1em; text-align: center; vertical-align: top\">Bucks</td>\n",
       "    </tr>\n",
       "    <tr>\n",
       "        <td style=\"padding-left: 1em; padding-right: 1em; text-align: center; vertical-align: top\">79124</td>\n",
       "        <td style=\"padding-left: 1em; padding-right: 1em; text-align: center; vertical-align: top\">7.9124</td>\n",
       "        <td style=\"padding-left: 1em; padding-right: 1em; text-align: center; vertical-align: top\">54.1</td>\n",
       "        <td style=\"padding-left: 1em; padding-right: 1em; text-align: center; vertical-align: top\">19.0</td>\n",
       "        <td style=\"padding-left: 1em; padding-right: 1em; text-align: center; vertical-align: top\">3.9</td>\n",
       "        <td style=\"padding-left: 1em; padding-right: 1em; text-align: center; vertical-align: top\">Bristol B.</td>\n",
       "        <td style=\"padding-left: 1em; padding-right: 1em; text-align: center; vertical-align: top\">Bucks</td>\n",
       "    </tr>\n",
       "    <tr>\n",
       "        <td style=\"padding-left: 1em; padding-right: 1em; text-align: center; vertical-align: top\">92634</td>\n",
       "        <td style=\"padding-left: 1em; padding-right: 1em; text-align: center; vertical-align: top\">9.2634</td>\n",
       "        <td style=\"padding-left: 1em; padding-right: 1em; text-align: center; vertical-align: top\">48.6</td>\n",
       "        <td style=\"padding-left: 1em; padding-right: 1em; text-align: center; vertical-align: top\">20.0</td>\n",
       "        <td style=\"padding-left: 1em; padding-right: 1em; text-align: center; vertical-align: top\">0.6</td>\n",
       "        <td style=\"padding-left: 1em; padding-right: 1em; text-align: center; vertical-align: top\">Bristol T.</td>\n",
       "        <td style=\"padding-left: 1em; padding-right: 1em; text-align: center; vertical-align: top\">Bucks</td>\n",
       "    </tr>\n",
       "    <tr>\n",
       "        <td style=\"padding-left: 1em; padding-right: 1em; text-align: center; vertical-align: top\">89246</td>\n",
       "        <td style=\"padding-left: 1em; padding-right: 1em; text-align: center; vertical-align: top\">8.9246</td>\n",
       "        <td style=\"padding-left: 1em; padding-right: 1em; text-align: center; vertical-align: top\">30.8</td>\n",
       "        <td style=\"padding-left: 1em; padding-right: 1em; text-align: center; vertical-align: top\">15.0</td>\n",
       "        <td style=\"padding-left: 1em; padding-right: 1em; text-align: center; vertical-align: top\">-2.6</td>\n",
       "        <td style=\"padding-left: 1em; padding-right: 1em; text-align: center; vertical-align: top\">Brookhaven</td>\n",
       "        <td style=\"padding-left: 1em; padding-right: 1em; text-align: center; vertical-align: top\">Delaware</td>\n",
       "    </tr>\n",
       "    <tr>\n",
       "        <td style=\"padding-left: 1em; padding-right: 1em; text-align: center; vertical-align: top\">195145</td>\n",
       "        <td style=\"padding-left: 1em; padding-right: 1em; text-align: center; vertical-align: top\">19.5145</td>\n",
       "        <td style=\"padding-left: 1em; padding-right: 1em; text-align: center; vertical-align: top\">10.8</td>\n",
       "        <td style=\"padding-left: 1em; padding-right: 1em; text-align: center; vertical-align: top\">20.0</td>\n",
       "        <td style=\"padding-left: 1em; padding-right: 1em; text-align: center; vertical-align: top\">-3.5</td>\n",
       "        <td style=\"padding-left: 1em; padding-right: 1em; text-align: center; vertical-align: top\">Bryn Athyn</td>\n",
       "        <td style=\"padding-left: 1em; padding-right: 1em; text-align: center; vertical-align: top\">Montgome</td>\n",
       "    </tr>\n",
       "    <tr>\n",
       "        <td style=\"padding-left: 1em; padding-right: 1em; text-align: center; vertical-align: top\">297342</td>\n",
       "        <td style=\"padding-left: 1em; padding-right: 1em; text-align: center; vertical-align: top\">29.7342</td>\n",
       "        <td style=\"padding-left: 1em; padding-right: 1em; text-align: center; vertical-align: top\">20.2</td>\n",
       "        <td style=\"padding-left: 1em; padding-right: 1em; text-align: center; vertical-align: top\">14.0</td>\n",
       "        <td style=\"padding-left: 1em; padding-right: 1em; text-align: center; vertical-align: top\">0.6</td>\n",
       "        <td style=\"padding-left: 1em; padding-right: 1em; text-align: center; vertical-align: top\">Bryn Mawr</td>\n",
       "        <td style=\"padding-left: 1em; padding-right: 1em; text-align: center; vertical-align: top\">Montgome</td>\n",
       "    </tr>\n",
       "    <tr>\n",
       "        <td style=\"padding-left: 1em; padding-right: 1em; text-align: center; vertical-align: top\">264298</td>\n",
       "        <td style=\"padding-left: 1em; padding-right: 1em; text-align: center; vertical-align: top\">26.4298</td>\n",
       "        <td style=\"padding-left: 1em; padding-right: 1em; text-align: center; vertical-align: top\">20.4</td>\n",
       "        <td style=\"padding-left: 1em; padding-right: 1em; text-align: center; vertical-align: top\">26.0</td>\n",
       "        <td style=\"padding-left: 1em; padding-right: 1em; text-align: center; vertical-align: top\">6.0</td>\n",
       "        <td style=\"padding-left: 1em; padding-right: 1em; text-align: center; vertical-align: top\">Buckingham</td>\n",
       "        <td style=\"padding-left: 1em; padding-right: 1em; text-align: center; vertical-align: top\">Bucks</td>\n",
       "    </tr>\n",
       "</table>\n",
       "[99 rows x 7 columns]<br/>Note: Only the head of the SFrame is printed.<br/>You can use print_rows(num_rows=m, num_columns=n) to print more rows and columns.\n",
       "</div>"
      ],
      "text/plain": [
       "Columns:\n",
       "\tHousePrice\tint\n",
       "\tHsPrc ($10,000)\tfloat\n",
       "\tCrimeRate\tfloat\n",
       "\tMilesPhila\tfloat\n",
       "\tPopChg\tfloat\n",
       "\tName\tstr\n",
       "\tCounty\tstr\n",
       "\n",
       "Rows: 99\n",
       "\n",
       "Data:\n",
       "+------------+-----------------+-----------+------------+--------+------------+\n",
       "| HousePrice | HsPrc ($10,000) | CrimeRate | MilesPhila | PopChg |    Name    |\n",
       "+------------+-----------------+-----------+------------+--------+------------+\n",
       "|   140463   |     14.0463     |    29.7   |    10.0    |  -1.0  |  Abington  |\n",
       "|   113033   |     11.3033     |    24.1   |    18.0    |  4.0   |   Ambler   |\n",
       "|   124186   |     12.4186     |    19.5   |    25.0    |  8.0   |   Aston    |\n",
       "|   110490   |      11.049     |    49.4   |    25.0    |  2.7   |  Bensalem  |\n",
       "|   79124    |      7.9124     |    54.1   |    19.0    |  3.9   | Bristol B. |\n",
       "|   92634    |      9.2634     |    48.6   |    20.0    |  0.6   | Bristol T. |\n",
       "|   89246    |      8.9246     |    30.8   |    15.0    |  -2.6  | Brookhaven |\n",
       "|   195145   |     19.5145     |    10.8   |    20.0    |  -3.5  | Bryn Athyn |\n",
       "|   297342   |     29.7342     |    20.2   |    14.0    |  0.6   | Bryn Mawr  |\n",
       "|   264298   |     26.4298     |    20.4   |    26.0    |  6.0   | Buckingham |\n",
       "+------------+-----------------+-----------+------------+--------+------------+\n",
       "+----------+\n",
       "|  County  |\n",
       "+----------+\n",
       "| Montgome |\n",
       "| Montgome |\n",
       "| Delaware |\n",
       "|  Bucks   |\n",
       "|  Bucks   |\n",
       "|  Bucks   |\n",
       "| Delaware |\n",
       "| Montgome |\n",
       "| Montgome |\n",
       "|  Bucks   |\n",
       "+----------+\n",
       "[99 rows x 7 columns]\n",
       "Note: Only the head of the SFrame is printed.\n",
       "You can use print_rows(num_rows=m, num_columns=n) to print more rows and columns."
      ]
     },
     "execution_count": 35,
     "metadata": {},
     "output_type": "execute_result"
    }
   ],
   "source": [
    "sales"
   ]
  },
  {
   "cell_type": "markdown",
   "metadata": {},
   "source": [
    "## Explore the data"
   ]
  },
  {
   "cell_type": "code",
   "execution_count": 36,
   "metadata": {
    "collapsed": false
   },
   "outputs": [
    {
     "data": {
      "application/javascript": [
       "$(\"head\").append($(\"<link/>\").attr({\n",
       "  rel:  \"stylesheet\",\n",
       "  type: \"text/css\",\n",
       "  href: \"//cdnjs.cloudflare.com/ajax/libs/font-awesome/4.1.0/css/font-awesome.min.css\"\n",
       "}));\n",
       "$(\"head\").append($(\"<link/>\").attr({\n",
       "  rel:  \"stylesheet\",\n",
       "  type: \"text/css\",\n",
       "  href: \"https://static.turi.com/products/graphlab-create/2.1/canvas/css/canvas.css\"\n",
       "}));\n",
       "\n",
       "            (function(){\n",
       "\n",
       "                var e = null;\n",
       "                if (typeof element == 'undefined') {\n",
       "                    var scripts = document.getElementsByTagName('script');\n",
       "                    var thisScriptTag = scripts[scripts.length-1];\n",
       "                    var parentDiv = thisScriptTag.parentNode;\n",
       "                    e = document.createElement('div');\n",
       "                    parentDiv.appendChild(e);\n",
       "                } else {\n",
       "                    e = element[0];\n",
       "                }\n",
       "\n",
       "                if (typeof requirejs !== 'undefined') {\n",
       "                    // disable load timeout; ipython_app.js is large and can take a while to load.\n",
       "                    requirejs.config({waitSeconds: 0});\n",
       "                }\n",
       "\n",
       "                require(['https://static.turi.com/products/graphlab-create/2.1/canvas/js/ipython_app.js'], function(IPythonApp){\n",
       "                    var app = new IPythonApp();\n",
       "                    app.attachView('sframe','Plots', {\"selected_variable\": {\"name\": [\"sales\"], \"descriptives\": {\"rows\": 99, \"columns\": 7}, \"view_component\": \"Plots\", \"view_file\": \"sframe\", \"view_params\": {\"y\": \"HousePrice\", \"x\": \"CrimeRate\", \"columns\": [\"HousePrice\", \"HsPrc ($10,000)\", \"CrimeRate\", \"MilesPhila\", \"PopChg\", \"Name\", \"County\"], \"view\": \"Scatter Plot\"}, \"view_components\": [\"Summary\", \"Table\", \"Bar Chart\", \"BoxWhisker Plot\", \"Line Chart\", \"Scatter Plot\", \"Heat Map\", \"Plots\"], \"type\": \"SFrame\", \"columns\": [{\"dtype\": \"int\", \"name\": \"HousePrice\"}, {\"dtype\": \"float\", \"name\": \"HsPrc ($10,000)\"}, {\"dtype\": \"float\", \"name\": \"CrimeRate\"}, {\"dtype\": \"float\", \"name\": \"MilesPhila\"}, {\"dtype\": \"float\", \"name\": \"PopChg\"}, {\"dtype\": \"str\", \"name\": \"Name\"}, {\"dtype\": \"str\", \"name\": \"County\"}], \"column_identifiers\": [\"Name\", \"PopChg\", \"County\", \"HousePrice\", \"MilesPhila\", \"HsPrc ($10,000)\", \"CrimeRate\"]}, \"complete\": 1, \"ipython\": true, \"progress\": 1.0, \"data\": [[29.7, 140463], [24.1, 113033], [19.5, 124186], [49.4, 110490], [54.1, 79124], [48.6, 92634], [30.8, 89246], [10.8, 195145], [20.2, 297342], [20.4, 264298], [17.3, 134342], [50.3, 147600], [34.2, 77370], [33.7, 170822], [45.7, 40642], [22.3, 71359], [48.1, 104923], [19.4, 190317], [71.9, 215512], [45.1, 178105], [31.3, 131025], [24.9, 149844], [27.2, 170556], [17.7, 280969], [29.0, 114233], [21.4, 74502], [28.6, 475112], [29.3, 97167], [17.5, 114572], [16.5, 436348], [17.8, 389302], [17.3, 122392], [31.2, 130436], [14.5, 272790], [15.7, 194435], [28.6, 299621], [20.8, 210884], [29.3, 112471], [19.3, 93738], [39.5, 121024], [13.0, 156035], [24.1, 185404], [38.0, 126160], [40.1, 143072], [36.1, 96769], [26.6, 94014], [25.1, 118214], [14.6, 157446], [18.2, 150283], [15.3, 153842], [15.2, 197214], [17.4, 206127], [73.3, 71981], [7.1, 169401], [12.5, 99843], [45.8, 60000], [44.9, 28000], [65.0, 60000], [49.9, 61800], [54.8, 38000], [53.5, 38000], [69.9, 42000], [366.1, 96200], [24.6, 103087], [58.6, 147720], [53.2, 78175], [17.4, 92215], [15.5, 271804], [14.5, 119566], [24.1, 100231], [21.2, 95831], [9.8, 229711], [29.9, 74308], [7.2, 259506], [19.4, 159573], [41.1, 147176], [11.2, 205732], [21.2, 215783], [42.8, 116710], [9.4, 359112], [61.7, 189959], [19.4, 133198], [6.6, 242821], [15.9, 142811], [18.8, 200498], [13.2, 199065], [34.5, 93648], [22.1, 163001], [22.1, 436348], [71.9, 124478], [31.9, 168276], [44.6, 114157], [28.6, 130088], [24.0, 152624], [13.8, 174232], [29.9, 196515], [9.9, 232714], [22.6, 245920], [13.0, 130953]], \"columns\": [{\"dtype\": \"int\", \"name\": \"HousePrice\"}, {\"dtype\": \"float\", \"name\": \"HsPrc ($10,000)\"}, {\"dtype\": \"float\", \"name\": \"CrimeRate\"}, {\"dtype\": \"float\", \"name\": \"MilesPhila\"}, {\"dtype\": \"float\", \"name\": \"PopChg\"}, {\"dtype\": \"str\", \"name\": \"Name\"}, {\"dtype\": \"str\", \"name\": \"County\"}]}, e);\n",
       "                });\n",
       "            })();\n",
       "        "
      ]
     },
     "metadata": {},
     "output_type": "display_data"
    }
   ],
   "source": [
    "graphlab.canvas.set_target('ipynb')\n",
    "sales.show(view=\"Scatter Plot\",x=\"CrimeRate\",y=\"HousePrice\")"
   ]
  },
  {
   "cell_type": "code",
   "execution_count": 5,
   "metadata": {
    "collapsed": false
   },
   "outputs": [
    {
     "data": {
      "application/javascript": [
       "$(\"head\").append($(\"<link/>\").attr({\n",
       "  rel:  \"stylesheet\",\n",
       "  type: \"text/css\",\n",
       "  href: \"//cdnjs.cloudflare.com/ajax/libs/font-awesome/4.1.0/css/font-awesome.min.css\"\n",
       "}));\n",
       "$(\"head\").append($(\"<link/>\").attr({\n",
       "  rel:  \"stylesheet\",\n",
       "  type: \"text/css\",\n",
       "  href: \"https://static.turi.com/products/graphlab-create/2.1/canvas/css/canvas.css\"\n",
       "}));\n",
       "\n",
       "            (function(){\n",
       "\n",
       "                var e = null;\n",
       "                if (typeof element == 'undefined') {\n",
       "                    var scripts = document.getElementsByTagName('script');\n",
       "                    var thisScriptTag = scripts[scripts.length-1];\n",
       "                    var parentDiv = thisScriptTag.parentNode;\n",
       "                    e = document.createElement('div');\n",
       "                    parentDiv.appendChild(e);\n",
       "                } else {\n",
       "                    e = element[0];\n",
       "                }\n",
       "\n",
       "                if (typeof requirejs !== 'undefined') {\n",
       "                    // disable load timeout; ipython_app.js is large and can take a while to load.\n",
       "                    requirejs.config({waitSeconds: 0});\n",
       "                }\n",
       "\n",
       "                require(['https://static.turi.com/products/graphlab-create/2.1/canvas/js/ipython_app.js'], function(IPythonApp){\n",
       "                    var app = new IPythonApp();\n",
       "                    app.attachView('sframe','Plots', {\"selected_variable\": {\"name\": [\"sales\"], \"descriptives\": {\"rows\": 99, \"columns\": 7}, \"view_component\": \"Plots\", \"view_file\": \"sframe\", \"view_params\": {\"y\": \"HousePrice\", \"x\": \"CrimeRate\", \"columns\": [\"HousePrice\", \"HsPrc ($10,000)\", \"CrimeRate\", \"MilesPhila\", \"PopChg\", \"Name\", \"County\"], \"view\": \"Scatter Plot\"}, \"view_components\": [\"Summary\", \"Table\", \"Bar Chart\", \"BoxWhisker Plot\", \"Line Chart\", \"Scatter Plot\", \"Heat Map\", \"Plots\"], \"type\": \"SFrame\", \"columns\": [{\"dtype\": \"int\", \"name\": \"HousePrice\"}, {\"dtype\": \"float\", \"name\": \"HsPrc ($10,000)\"}, {\"dtype\": \"float\", \"name\": \"CrimeRate\"}, {\"dtype\": \"float\", \"name\": \"MilesPhila\"}, {\"dtype\": \"float\", \"name\": \"PopChg\"}, {\"dtype\": \"str\", \"name\": \"Name\"}, {\"dtype\": \"str\", \"name\": \"County\"}], \"column_identifiers\": [\"Name\", \"PopChg\", \"County\", \"HousePrice\", \"MilesPhila\", \"HsPrc ($10,000)\", \"CrimeRate\"]}, \"complete\": 1, \"ipython\": true, \"progress\": 1.0, \"data\": [[29.7, 140463], [24.1, 113033], [19.5, 124186], [49.4, 110490], [54.1, 79124], [48.6, 92634], [30.8, 89246], [10.8, 195145], [20.2, 297342], [20.4, 264298], [17.3, 134342], [50.3, 147600], [34.2, 77370], [33.7, 170822], [45.7, 40642], [22.3, 71359], [48.1, 104923], [19.4, 190317], [71.9, 215512], [45.1, 178105], [31.3, 131025], [24.9, 149844], [27.2, 170556], [17.7, 280969], [29.0, 114233], [21.4, 74502], [28.6, 475112], [29.3, 97167], [17.5, 114572], [16.5, 436348], [17.8, 389302], [17.3, 122392], [31.2, 130436], [14.5, 272790], [15.7, 194435], [28.6, 299621], [20.8, 210884], [29.3, 112471], [19.3, 93738], [39.5, 121024], [13.0, 156035], [24.1, 185404], [38.0, 126160], [40.1, 143072], [36.1, 96769], [26.6, 94014], [25.1, 118214], [14.6, 157446], [18.2, 150283], [15.3, 153842], [15.2, 197214], [17.4, 206127], [73.3, 71981], [7.1, 169401], [12.5, 99843], [45.8, 60000], [44.9, 28000], [65.0, 60000], [49.9, 61800], [54.8, 38000], [53.5, 38000], [69.9, 42000], [366.1, 96200], [24.6, 103087], [58.6, 147720], [53.2, 78175], [17.4, 92215], [15.5, 271804], [14.5, 119566], [24.1, 100231], [21.2, 95831], [9.8, 229711], [29.9, 74308], [7.2, 259506], [19.4, 159573], [41.1, 147176], [11.2, 205732], [21.2, 215783], [42.8, 116710], [9.4, 359112], [61.7, 189959], [19.4, 133198], [6.6, 242821], [15.9, 142811], [18.8, 200498], [13.2, 199065], [34.5, 93648], [22.1, 163001], [22.1, 436348], [71.9, 124478], [31.9, 168276], [44.6, 114157], [28.6, 130088], [24.0, 152624], [13.8, 174232], [29.9, 196515], [9.9, 232714], [22.6, 245920], [13.0, 130953]], \"columns\": [{\"dtype\": \"int\", \"name\": \"HousePrice\"}, {\"dtype\": \"float\", \"name\": \"HsPrc ($10,000)\"}, {\"dtype\": \"float\", \"name\": \"CrimeRate\"}, {\"dtype\": \"float\", \"name\": \"MilesPhila\"}, {\"dtype\": \"float\", \"name\": \"PopChg\"}, {\"dtype\": \"str\", \"name\": \"Name\"}, {\"dtype\": \"str\", \"name\": \"County\"}]}, e);\n",
       "                });\n",
       "            })();\n",
       "        "
      ]
     },
     "metadata": {},
     "output_type": "display_data"
    }
   ],
   "source": []
  },
  {
   "cell_type": "markdown",
   "metadata": {},
   "source": [
    "## Fit the regression model using crime as the feature"
   ]
  },
  {
   "cell_type": "code",
   "execution_count": 37,
   "metadata": {
    "collapsed": true
   },
   "outputs": [],
   "source": [
    "crime_model=graphlab.regression.create(sales,target='HousePrice',features=['CrimeRate'],validation_set=None,verbose=False)"
   ]
  },
  {
   "cell_type": "markdown",
   "metadata": {},
   "source": [
    "## Check the fit\n"
   ]
  },
  {
   "cell_type": "code",
   "execution_count": 38,
   "metadata": {
    "collapsed": true
   },
   "outputs": [],
   "source": [
    "import matplotlib.pyplot as plt \n",
    "%matplotlib inline"
   ]
  },
  {
   "cell_type": "code",
   "execution_count": null,
   "metadata": {
    "collapsed": false
   },
   "outputs": [],
   "source": [
    "plt.plot(sales['CrimeRate'],sales['HousePrice'],'.',\n",
    "        sales['CrimeRate'],crime_model.predict(sales),'-')"
   ]
  },
  {
   "cell_type": "markdown",
   "metadata": {},
   "source": [
    "## Remove center city and redo the analysis"
   ]
  },
  {
   "cell_type": "code",
   "execution_count": 41,
   "metadata": {
    "collapsed": true
   },
   "outputs": [],
   "source": [
    "sales_noCC=sales[sales['MilesPhila']!=0.0]"
   ]
  },
  {
   "cell_type": "code",
   "execution_count": 42,
   "metadata": {
    "collapsed": false
   },
   "outputs": [
    {
     "data": {
      "application/javascript": [
       "$(\"head\").append($(\"<link/>\").attr({\n",
       "  rel:  \"stylesheet\",\n",
       "  type: \"text/css\",\n",
       "  href: \"//cdnjs.cloudflare.com/ajax/libs/font-awesome/4.1.0/css/font-awesome.min.css\"\n",
       "}));\n",
       "$(\"head\").append($(\"<link/>\").attr({\n",
       "  rel:  \"stylesheet\",\n",
       "  type: \"text/css\",\n",
       "  href: \"https://static.turi.com/products/graphlab-create/2.1/canvas/css/canvas.css\"\n",
       "}));\n",
       "\n",
       "            (function(){\n",
       "\n",
       "                var e = null;\n",
       "                if (typeof element == 'undefined') {\n",
       "                    var scripts = document.getElementsByTagName('script');\n",
       "                    var thisScriptTag = scripts[scripts.length-1];\n",
       "                    var parentDiv = thisScriptTag.parentNode;\n",
       "                    e = document.createElement('div');\n",
       "                    parentDiv.appendChild(e);\n",
       "                } else {\n",
       "                    e = element[0];\n",
       "                }\n",
       "\n",
       "                if (typeof requirejs !== 'undefined') {\n",
       "                    // disable load timeout; ipython_app.js is large and can take a while to load.\n",
       "                    requirejs.config({waitSeconds: 0});\n",
       "                }\n",
       "\n",
       "                require(['https://static.turi.com/products/graphlab-create/2.1/canvas/js/ipython_app.js'], function(IPythonApp){\n",
       "                    var app = new IPythonApp();\n",
       "                    app.attachView('sframe','Plots', {\"selected_variable\": {\"name\": [\"sales_noCC\"], \"descriptives\": {\"rows\": 98, \"columns\": 7}, \"view_component\": \"Plots\", \"view_file\": \"sframe\", \"view_params\": {\"y\": \"HousePrice\", \"x\": \"CrimeRate\", \"columns\": [\"HousePrice\", \"HsPrc ($10,000)\", \"CrimeRate\", \"MilesPhila\", \"PopChg\", \"Name\", \"County\"], \"view\": \"Scatter Plot\"}, \"view_components\": [\"Summary\", \"Table\", \"Bar Chart\", \"BoxWhisker Plot\", \"Line Chart\", \"Scatter Plot\", \"Heat Map\", \"Plots\"], \"type\": \"SFrame\", \"columns\": [{\"dtype\": \"int\", \"name\": \"HousePrice\"}, {\"dtype\": \"float\", \"name\": \"HsPrc ($10,000)\"}, {\"dtype\": \"float\", \"name\": \"CrimeRate\"}, {\"dtype\": \"float\", \"name\": \"MilesPhila\"}, {\"dtype\": \"float\", \"name\": \"PopChg\"}, {\"dtype\": \"str\", \"name\": \"Name\"}, {\"dtype\": \"str\", \"name\": \"County\"}], \"column_identifiers\": [\"Name\", \"PopChg\", \"County\", \"HousePrice\", \"MilesPhila\", \"HsPrc ($10,000)\", \"CrimeRate\"]}, \"complete\": 1, \"ipython\": true, \"progress\": 1.0, \"data\": [[29.7, 140463], [24.1, 113033], [19.5, 124186], [49.4, 110490], [54.1, 79124], [48.6, 92634], [30.8, 89246], [10.8, 195145], [20.2, 297342], [20.4, 264298], [17.3, 134342], [50.3, 147600], [34.2, 77370], [33.7, 170822], [45.7, 40642], [22.3, 71359], [48.1, 104923], [19.4, 190317], [71.9, 215512], [45.1, 178105], [31.3, 131025], [24.9, 149844], [27.2, 170556], [17.7, 280969], [29.0, 114233], [21.4, 74502], [28.6, 475112], [29.3, 97167], [17.5, 114572], [16.5, 436348], [17.8, 389302], [17.3, 122392], [31.2, 130436], [14.5, 272790], [15.7, 194435], [28.6, 299621], [20.8, 210884], [29.3, 112471], [19.3, 93738], [39.5, 121024], [13.0, 156035], [24.1, 185404], [38.0, 126160], [40.1, 143072], [36.1, 96769], [26.6, 94014], [25.1, 118214], [14.6, 157446], [18.2, 150283], [15.3, 153842], [15.2, 197214], [17.4, 206127], [73.3, 71981], [7.1, 169401], [12.5, 99843], [45.8, 60000], [44.9, 28000], [65.0, 60000], [49.9, 61800], [54.8, 38000], [53.5, 38000], [69.9, 42000], [24.6, 103087], [58.6, 147720], [53.2, 78175], [17.4, 92215], [15.5, 271804], [14.5, 119566], [24.1, 100231], [21.2, 95831], [9.8, 229711], [29.9, 74308], [7.2, 259506], [19.4, 159573], [41.1, 147176], [11.2, 205732], [21.2, 215783], [42.8, 116710], [9.4, 359112], [61.7, 189959], [19.4, 133198], [6.6, 242821], [15.9, 142811], [18.8, 200498], [13.2, 199065], [34.5, 93648], [22.1, 163001], [22.1, 436348], [71.9, 124478], [31.9, 168276], [44.6, 114157], [28.6, 130088], [24.0, 152624], [13.8, 174232], [29.9, 196515], [9.9, 232714], [22.6, 245920], [13.0, 130953]], \"columns\": [{\"dtype\": \"int\", \"name\": \"HousePrice\"}, {\"dtype\": \"float\", \"name\": \"HsPrc ($10,000)\"}, {\"dtype\": \"float\", \"name\": \"CrimeRate\"}, {\"dtype\": \"float\", \"name\": \"MilesPhila\"}, {\"dtype\": \"float\", \"name\": \"PopChg\"}, {\"dtype\": \"str\", \"name\": \"Name\"}, {\"dtype\": \"str\", \"name\": \"County\"}]}, e);\n",
       "                });\n",
       "            })();\n",
       "        "
      ]
     },
     "metadata": {},
     "output_type": "display_data"
    }
   ],
   "source": [
    "sales_noCC.show(view=\"Scatter Plot\",x=\"CrimeRate\",y=\"HousePrice\")"
   ]
  },
  {
   "cell_type": "markdown",
   "metadata": {},
   "source": [
    "## Relift our simple regression model on this modified dataset:"
   ]
  },
  {
   "cell_type": "code",
   "execution_count": 43,
   "metadata": {
    "collapsed": false
   },
   "outputs": [],
   "source": [
    "crime_model_noCC = graphlab.linear_regression.create(sales_noCC, target='HousePrice', features=['CrimeRate'],validation_set=None, verbose=False)"
   ]
  },
  {
   "cell_type": "code",
   "execution_count": 44,
   "metadata": {
    "collapsed": false
   },
   "outputs": [
    {
     "data": {
      "text/plain": [
       "[<matplotlib.lines.Line2D at 0x1f7454a8>,\n",
       " <matplotlib.lines.Line2D at 0x1f745550>]"
      ]
     },
     "execution_count": 44,
     "metadata": {},
     "output_type": "execute_result"
    },
    {
     "data": {
      "image/png": "[encoded data removed]",
      "text/plain": [
       "<matplotlib.figure.Figure at 0x1f48c0f0>"
      ]
     },
     "metadata": {},
     "output_type": "display_data"
    }
   ],
   "source": [
    "plt.plot(sales_noCC['CrimeRate'],sales_noCC['HousePrice'],'.',\n",
    "        sales_noCC['CrimeRate'],crime_model.predict(sales_noCC),'-')"
   ]
  },
  {
   "cell_type": "markdown",
   "metadata": {},
   "source": [
    "## Compare coefficient for full datacity and removed centre city"
   ]
  },
  {
   "cell_type": "code",
   "execution_count": 45,
   "metadata": {
    "collapsed": false
   },
   "outputs": [
    {
     "name": "stderr",
     "output_type": "stream",
     "text": [
      "[ERROR] graphlab.toolkits._main: Toolkit error: Field 'coefficients' does not exist. Use list_fields() for a list of fields that can be queried.\n",
      "\n"
     ]
    },
    {
     "ename": "ToolkitError",
     "evalue": "Field 'coefficients' does not exist. Use list_fields() for a list of fields that can be queried.\n",
     "output_type": "error",
     "traceback": [
      "\u001b[1;31m---------------------------------------------------------------------------\u001b[0m",
      "\u001b[1;31mToolkitError\u001b[0m                              Traceback (most recent call last)",
      "\u001b[1;32m<ipython-input-45-52e5656dc36c>\u001b[0m in \u001b[0;36m<module>\u001b[1;34m()\u001b[0m\n\u001b[1;32m----> 1\u001b[1;33m \u001b[0mcrime_model\u001b[0m\u001b[1;33m.\u001b[0m\u001b[0mget\u001b[0m\u001b[1;33m(\u001b[0m\u001b[1;34m'coefficients'\u001b[0m\u001b[1;33m)\u001b[0m\u001b[1;33m\u001b[0m\u001b[0m\n\u001b[0m",
      "\u001b[1;32mC:\\Users\\mbal\\Anaconda2\\envs\\gl-env\\lib\\site-packages\\graphlab\\toolkits\\regression\\boosted_trees_regression.pyc\u001b[0m in \u001b[0;36mget\u001b[1;34m(self, field)\u001b[0m\n\u001b[0;32m    162\u001b[0m         \"\"\"\n\u001b[0;32m    163\u001b[0m         \u001b[0m_mt\u001b[0m\u001b[1;33m.\u001b[0m\u001b[0m_get_metric_tracker\u001b[0m\u001b[1;33m(\u001b[0m\u001b[1;33m)\u001b[0m\u001b[1;33m.\u001b[0m\u001b[0mtrack\u001b[0m\u001b[1;33m(\u001b[0m\u001b[1;34m'toolkit.regression.boosted_trees_regression.get'\u001b[0m\u001b[1;33m)\u001b[0m\u001b[1;33m\u001b[0m\u001b[0m\n\u001b[1;32m--> 164\u001b[1;33m         \u001b[1;32mreturn\u001b[0m \u001b[0msuper\u001b[0m\u001b[1;33m(\u001b[0m\u001b[0mBoostedTreesRegression\u001b[0m\u001b[1;33m,\u001b[0m \u001b[0mself\u001b[0m\u001b[1;33m)\u001b[0m\u001b[1;33m.\u001b[0m\u001b[0mget\u001b[0m\u001b[1;33m(\u001b[0m\u001b[0mfield\u001b[0m\u001b[1;33m)\u001b[0m\u001b[1;33m\u001b[0m\u001b[0m\n\u001b[0m\u001b[0;32m    165\u001b[0m \u001b[1;33m\u001b[0m\u001b[0m\n\u001b[0;32m    166\u001b[0m     \u001b[1;32mdef\u001b[0m \u001b[0mshow\u001b[0m\u001b[1;33m(\u001b[0m\u001b[0mself\u001b[0m\u001b[1;33m,\u001b[0m \u001b[0mview\u001b[0m\u001b[1;33m=\u001b[0m\u001b[1;34m\"Summary\"\u001b[0m\u001b[1;33m,\u001b[0m \u001b[0mtree_id\u001b[0m\u001b[1;33m=\u001b[0m\u001b[1;36m0\u001b[0m\u001b[1;33m,\u001b[0m \u001b[0mvlabel_hover\u001b[0m\u001b[1;33m=\u001b[0m\u001b[0mFalse\u001b[0m\u001b[1;33m)\u001b[0m\u001b[1;33m:\u001b[0m\u001b[1;33m\u001b[0m\u001b[0m\n",
      "\u001b[1;32mC:\\Users\\mbal\\Anaconda2\\envs\\gl-env\\lib\\site-packages\\graphlab\\toolkits\\_supervised_learning.pyc\u001b[0m in \u001b[0;36mget\u001b[1;34m(self, field)\u001b[0m\n\u001b[0;32m    224\u001b[0m                 \u001b[1;34m'model_name'\u001b[0m\u001b[1;33m:\u001b[0m \u001b[0mself\u001b[0m\u001b[1;33m.\u001b[0m\u001b[0m__name__\u001b[0m\u001b[1;33m,\u001b[0m\u001b[1;33m\u001b[0m\u001b[0m\n\u001b[0;32m    225\u001b[0m                 'field': field}\n\u001b[1;32m--> 226\u001b[1;33m         \u001b[0mresponse\u001b[0m \u001b[1;33m=\u001b[0m \u001b[0m_graphlab\u001b[0m\u001b[1;33m.\u001b[0m\u001b[0mtoolkits\u001b[0m\u001b[1;33m.\u001b[0m\u001b[0m_main\u001b[0m\u001b[1;33m.\u001b[0m\u001b[0mrun\u001b[0m\u001b[1;33m(\u001b[0m\u001b[1;34m'supervised_learning_get_value'\u001b[0m\u001b[1;33m,\u001b[0m \u001b[0mopts\u001b[0m\u001b[1;33m)\u001b[0m\u001b[1;33m\u001b[0m\u001b[0m\n\u001b[0m\u001b[0;32m    227\u001b[0m         \u001b[1;32mreturn\u001b[0m \u001b[0m_map_unity_proxy_to_object\u001b[0m\u001b[1;33m(\u001b[0m\u001b[0mresponse\u001b[0m\u001b[1;33m[\u001b[0m\u001b[1;34m'value'\u001b[0m\u001b[1;33m]\u001b[0m\u001b[1;33m)\u001b[0m\u001b[1;33m\u001b[0m\u001b[0m\n\u001b[0;32m    228\u001b[0m \u001b[1;33m\u001b[0m\u001b[0m\n",
      "\u001b[1;32mC:\\Users\\mbal\\Anaconda2\\envs\\gl-env\\lib\\site-packages\\graphlab\\toolkits\\_main.pyc\u001b[0m in \u001b[0;36mrun\u001b[1;34m(toolkit_name, options, verbose, show_progress)\u001b[0m\n\u001b[0;32m     87\u001b[0m         \u001b[0m_get_metric_tracker\u001b[0m\u001b[1;33m(\u001b[0m\u001b[1;33m)\u001b[0m\u001b[1;33m.\u001b[0m\u001b[0mtrack\u001b[0m\u001b[1;33m(\u001b[0m\u001b[0mmetric_name\u001b[0m\u001b[1;33m,\u001b[0m \u001b[0mvalue\u001b[0m\u001b[1;33m=\u001b[0m\u001b[1;36m1\u001b[0m\u001b[1;33m,\u001b[0m \u001b[0mproperties\u001b[0m\u001b[1;33m=\u001b[0m\u001b[0mtrack_props\u001b[0m\u001b[1;33m,\u001b[0m \u001b[0msend_sys_info\u001b[0m\u001b[1;33m=\u001b[0m\u001b[0mFalse\u001b[0m\u001b[1;33m)\u001b[0m\u001b[1;33m\u001b[0m\u001b[0m\n\u001b[0;32m     88\u001b[0m \u001b[1;33m\u001b[0m\u001b[0m\n\u001b[1;32m---> 89\u001b[1;33m         \u001b[1;32mraise\u001b[0m \u001b[0mToolkitError\u001b[0m\u001b[1;33m(\u001b[0m\u001b[0mstr\u001b[0m\u001b[1;33m(\u001b[0m\u001b[0mmessage\u001b[0m\u001b[1;33m)\u001b[0m\u001b[1;33m)\u001b[0m\u001b[1;33m\u001b[0m\u001b[0m\n\u001b[0m",
      "\u001b[1;31mToolkitError\u001b[0m: Field 'coefficients' does not exist. Use list_fields() for a list of fields that can be queried.\n"
     ]
    }
   ],
   "source": [
    "crime_model.get('coefficients')"
   ]
  },
  {
   "cell_type": "markdown",
   "metadata": {},
   "source": [
    "## Assignments- 1st\n"
   ]
  },
  {
   "cell_type": "code",
   "execution_count": null,
   "metadata": {
    "collapsed": true
   },
   "outputs": [],
   "source": []
  }
 ],
 "metadata": {
  "kernelspec": {
   "display_name": "Python 2",
   "language": "python",
   "name": "python2"
  },
  "language_info": {
   "codemirror_mode": {
    "name": "ipython",
    "version": 2
   },
   "file_extension": ".py",
   "mimetype": "text/x-python",
   "name": "python",
   "nbconvert_exporter": "python",
   "pygments_lexer": "ipython2",
   "version": "2.7.11"
  }
 },
 "nbformat": 4,
 "nbformat_minor": 0
}
